{
 "cells": [
  {
   "cell_type": "code",
   "execution_count": 1,
   "metadata": {},
   "outputs": [],
   "source": [
    "import pandas as pd\n",
    "import numpy as np\n",
    "pd.options.display.max_rows = 999\n",
    "pd.options.display.max_columns = 999\n",
    "\n",
    "SHEET_NAMES = [\"Pre & Post\", \"Weekly\", \"Daily\"]"
   ]
  },
  {
   "cell_type": "code",
   "execution_count": 2,
   "metadata": {},
   "outputs": [],
   "source": [
    "df = pd.read_csv(\"../data/class_data.csv\", encoding = 'latin-1')\n",
    "df_interested = df[df[\"pre_studyinterest\"] == \"Yes\"]"
   ]
  },
  {
   "cell_type": "code",
   "execution_count": 3,
   "metadata": {},
   "outputs": [],
   "source": [
    "# Verify possuble varnames by checking in bio class variables set\n",
    "def find_construct_variable(df, codebook, flag):\n",
    "    \n",
    "    # construct possible varnames for each Name Stem in its Construct group\n",
    "    # flag in [\"pre\", \"post\", 'd', 'w']\n",
    "    def build_counstruct_variable_dict(codebook, flag):\n",
    "        appending = [c for c in list(codebook.columns)[1:list(codebook.columns).index(\"Construct\")]]\n",
    "        if \"pre\" in appending:\n",
    "            construct_var_dict = \\\n",
    "                codebook.groupby(\"Construct\").apply(\n",
    "                    lambda d: {i: [a + \"_\" + i for a in appending if d[d[\"Name Stem\"] == i][a].tolist()[0] == \"x\"] \\\n",
    "                               for i in d[\"Name Stem\"]}).to_dict()\n",
    "\n",
    "        else:\n",
    "            construct_var_dict = \\\n",
    "                codebook.groupby(\"Construct\").apply(\n",
    "                    lambda d: {i: [i + flag + str(a) for a in appending if d[d[\"Name Stem\"] == i][a].tolist()[0] == \"x\"] \\\n",
    "                               for i in d[\"Name Stem\"]}).to_dict()\n",
    "        return construct_var_dict\n",
    "\n",
    "    construct_var_dict = build_counstruct_variable_dict(codebook, flag)\n",
    "    return {construct: {var_root: [var for var in construct_var_dict[construct][var_root] + [var_root] if var in df.columns] \\\n",
    "                          for var_root in construct_var_dict[construct]} for construct in construct_var_dict}\n",
    "\n",
    "def print_non_exist_variable(df, to_ret):\n",
    "    print(\"Name Stems that are not in df:  \")\n",
    "    for construct in to_ret:\n",
    "        for var_root in to_ret[construct]:\n",
    "            if len(to_ret[construct][var_root]) == 0:\n",
    "                print([construct, var_root])\n",
    "    print('\\n')"
   ]
  },
  {
   "cell_type": "code",
   "execution_count": 4,
   "metadata": {},
   "outputs": [],
   "source": [
    "def build_var_null_percentage_df(df, sheet_name, verbal = False, overwrite = True, student_interested = False, \n",
    "                                 count_writer = None, describe_writer = None):\n",
    "    \n",
    "    def construct_percentage_df(construct_var_dict):\n",
    "        df_percentage_master = pd.DataFrame([[construct, name_stem, var] for construct in construct_var_dict \n",
    "                                             for name_stem in construct_var_dict[construct] for var in construct_var_dict[construct][name_stem]])\n",
    "        df_percentage_master.columns = [\"Construct\", \"Name Stem\", \"Var\"]\n",
    "        df_percentage_master[\"count\"] = df[df_percentage_master[\"Var\"]].count().to_list()\n",
    "        df_percentage_master[\"flag\"] = [i.replace(j, '').replace('_', '') if i.replace(j, '').replace('_', '') else \"original\" \n",
    "                       for i, j in zip(df_percentage_master[\"Var\"], df_percentage_master[\"Name Stem\"])]\n",
    "        df_percentage_master = pd.DataFrame(df_percentage_master.pivot(index='Name Stem', columns=\"flag\", values=[\"count\"]))\n",
    "        return df_percentage_master\n",
    "    \n",
    "    def write_count_to_excel(df_percentage, df_codebook, sheet_name = sheet_name, writer = count_writer):\n",
    "        appending = [c for c in list(df_codebook.columns)[1:list(df_codebook.columns).index(\"Construct\")]]\n",
    "        df_percentage_level = pd.DataFrame(df_percentage[\"count\"]).reset_index()\n",
    "        df_percentage_level = df_percentage_level.merge(df_codebook[codebook_vars], \n",
    "                                                       left_on = \"Name Stem\", right_on = \"Name Stem\", how = \"left\")   \n",
    "        if sheet_name == \"Pre & Post\":\n",
    "            df_percentage_level[df_percentage_level[\"original\"].notna()].drop([\"post\", \"pre\"], axis=1).to_excel(writer, sheet_name = \"Pre&Post Original\")\n",
    "            df_percentage_level[df_percentage_level[\"post\"].notna()].drop([\"original\", \"pre\"], axis=1).to_excel(writer, sheet_name = \"Post\")\n",
    "            df_percentage_level[df_percentage_level[\"pre\"].notna()].drop([\"original\", \"post\"], axis=1).to_excel(writer, sheet_name = \"Pre\")\n",
    "            df_percentage_level = df_percentage_level[(df_percentage_level[\"pre\"].notna()) & (df_percentage_level[\"post\"].notna())].drop([\"original\"], axis=1)\n",
    "            df_percentage_level[\"retention_rate\"] = df_percentage_level[\"post\"] / df_percentage_level[\"pre\"]\n",
    "            df_percentage_level = df_percentage_level[[\"Name Stem\", \"pre\", \"post\", \"retention_rate\", \"Construct\", \"Item\", \"Response Values\", \"Label\"]]\n",
    "            df_percentage_level.to_excel(writer, sheet_name = \"Pre & Post\")\n",
    "        else:\n",
    "            df_percentage_level.to_excel(writer, sheet_name = sheet_name)    \n",
    "    \n",
    "    def print_percentage_head(df_percentage, df_codebook):\n",
    "        df_percentage.columns = ['_'.join(col[::-1]).strip() for col in df_percentage.columns.values]\n",
    "        df_percentage = pd.DataFrame(df_percentage).reset_index().merge(df_codebook[codebook_vars], \n",
    "                                                                   left_on = \"Name Stem\", right_on = \"Name Stem\", how = \"left\")\n",
    "        df_percentage = df_percentage[codebook_vars + [c for c in df_percentage.columns if c not in codebook_vars]]\n",
    "        display(df_percentage.head())\n",
    "        \n",
    "    def write_description_to_excel(df, construct_var_dict, sheet_name = sheet_name, writer = describe_writer, verbal = verbal):\n",
    "        found_var = [var for c in construct_var_dict for var_root in construct_var_dict[c] for var in construct_var_dict[c][var_root]]\n",
    "        df_describe = df[found_var].describe()\n",
    "        if verbal:\n",
    "            display(df_describe)\n",
    "        df_describe.to_excel(writer, sheet_name = sheet_name)\n",
    "    \n",
    "    df_codebook =  pd.read_excel(\"../data/codebook.xlsx\", sheet_name=sheet_name)\n",
    "    construct_var_dict = find_construct_variable(df, df_codebook, sheet_name[0].lower())\n",
    "    df_percentage = construct_percentage_df(construct_var_dict)\n",
    "    codebook_vars = [\"Name Stem\", \"Construct\", \"Item\", \"Response Values\", \"Label\"]\n",
    "    \n",
    "    if verbal:\n",
    "        print(sheet_name, '\\n\\n')\n",
    "        print_non_exist_variable(df, construct_var_dict)\n",
    "        print_percentage_head(df_percentage.copy(), df_codebook)\n",
    "    \n",
    "    if overwrite:\n",
    "        write_count_to_excel(df_percentage.copy(), df_codebook)\n",
    "        write_description_to_excel(df, construct_var_dict)\n",
    "  \n",
    "    return df_percentage\n",
    "        "
   ]
  },
  {
   "cell_type": "markdown",
   "metadata": {},
   "source": [
    "## Interested Students"
   ]
  },
  {
   "cell_type": "code",
   "execution_count": 5,
   "metadata": {},
   "outputs": [
    {
     "name": "stdout",
     "output_type": "stream",
     "text": [
      "Total number of students:   99\n"
     ]
    }
   ],
   "source": [
    "fname_count = \"../data/student_interested_var_count.xlsx\"\n",
    "fname_describe = \"../data/student_interested_var_describe.xlsx\"\n",
    "print(\"Total number of students:  \", df_interested.shape[0])\n",
    "with pd.ExcelWriter(fname_count) as count_writer, pd.ExcelWriter(fname_describe) as describe_writer:\n",
    "    for sheet_name in SHEET_NAMES:\n",
    "        build_var_null_percentage_df(df_interested, sheet_name, verbal = False, student_interested=True, \n",
    "                                     count_writer = count_writer, describe_writer = describe_writer)"
   ]
  },
  {
   "cell_type": "markdown",
   "metadata": {},
   "source": [
    "## All Students"
   ]
  },
  {
   "cell_type": "code",
   "execution_count": 6,
   "metadata": {},
   "outputs": [],
   "source": [
    "# fname = \"data/student_var_count.xlsx\"\n",
    "# fname_describe = \"data/student_var_describe.xlsx\"\n",
    "# print(\"Total number of students:  \", df_interested.shape[0])\n",
    "# with pd.ExcelWriter(fname) as count_writer, pd.ExcelWriter(fname_describe) as describe_writer:\n",
    "#     for sheet_name in SHEET_NAMES:\n",
    "#         build_var_null_percentage_df(df, sheet_name, verbal = False, student_interested=False, \n",
    "#                                      count_writer = count_writer, describe_writer = describe_writer)"
   ]
  },
  {
   "cell_type": "markdown",
   "metadata": {},
   "source": [
    "## Select Var based on count percentage"
   ]
  },
  {
   "cell_type": "code",
   "execution_count": 5,
   "metadata": {},
   "outputs": [],
   "source": [
    "def build_decision_df(df, sheet_name, threshold = 0.5, writer = None):\n",
    "    df_codebook =  pd.read_excel(\"data/codebook.xlsx\", sheet_name=sheet_name)\n",
    "    construct_var_dict = find_construct_variable(df, df_codebook, sheet_name[0].lower())\n",
    "    df_master = pd.DataFrame([[construct, name_stem, var] for construct in construct_var_dict \n",
    "                              for name_stem in construct_var_dict[construct] for var in construct_var_dict[construct][name_stem]])\n",
    "    df_master.columns = [\"Construct\", \"Name Stem\", \"Var\"]\n",
    "    df_master[\"Percentage\"] = df[df_master[\"Var\"]].count().to_list()\n",
    "    df_master[\"Percentage\"] /= df.shape[0]\n",
    "    df_master[\"Decision\"] = [\"Keep\" if i >= threshold else \"Drop\" for i in df_master[\"Percentage\"]]\n",
    "    codebook_vars = [\"Name Stem\", \"Item\", \"Label\", \"Response Values\"]\n",
    "    df_master = df_master.merge(df_codebook[codebook_vars],left_on = \"Name Stem\", right_on = \"Name Stem\", how = \"left\") \n",
    "    \n",
    "    \n",
    "    if writer:\n",
    "        df_master.to_excel(writer, sheet_name = sheet_name)\n",
    "        for dec in [\"Keep\", \"Drop\"]:\n",
    "            df_dec = df_master[df_master[\"Decision\"] == dec]\n",
    "            df_dec.reset_index(drop=True).to_excel(writer, sheet_name = \"{} {}\".format(sheet_name, dec))\n",
    "        df_temp = pd.DataFrame(df_master.groupby(\"Construct\").mean().reset_index())\n",
    "        df_temp[\"Decision\"] = [\"Keep\" if i >= threshold else \"Drop\" for i in df_temp[\"Percentage\"]]\n",
    "        df_temp.to_excel(writer, sheet_name = \"{} AGG Decision\".format(sheet_name))"
   ]
  },
  {
   "cell_type": "code",
   "execution_count": 6,
   "metadata": {},
   "outputs": [],
   "source": [
    "fname = \"../data/student_interested_var_decision.xlsx\"\n",
    "with pd.ExcelWriter(fname) as decision_writer:\n",
    "    for sheet_name in SHEET_NAMES:\n",
    "        build_decision_df(df_interested, sheet_name, writer = decision_writer)"
   ]
  },
  {
   "cell_type": "code",
   "execution_count": null,
   "metadata": {},
   "outputs": [],
   "source": []
  },
  {
   "cell_type": "code",
   "execution_count": null,
   "metadata": {},
   "outputs": [],
   "source": []
  },
  {
   "cell_type": "code",
   "execution_count": null,
   "metadata": {},
   "outputs": [],
   "source": []
  },
  {
   "cell_type": "code",
   "execution_count": null,
   "metadata": {},
   "outputs": [],
   "source": []
  },
  {
   "cell_type": "code",
   "execution_count": null,
   "metadata": {},
   "outputs": [],
   "source": []
  },
  {
   "cell_type": "code",
   "execution_count": null,
   "metadata": {},
   "outputs": [],
   "source": []
  },
  {
   "cell_type": "code",
   "execution_count": null,
   "metadata": {},
   "outputs": [],
   "source": []
  },
  {
   "cell_type": "code",
   "execution_count": null,
   "metadata": {},
   "outputs": [],
   "source": []
  },
  {
   "cell_type": "code",
   "execution_count": null,
   "metadata": {},
   "outputs": [],
   "source": []
  },
  {
   "cell_type": "code",
   "execution_count": null,
   "metadata": {},
   "outputs": [],
   "source": []
  }
 ],
 "metadata": {
  "kernelspec": {
   "display_name": "Python 3",
   "language": "python",
   "name": "python3"
  },
  "language_info": {
   "codemirror_mode": {
    "name": "ipython",
    "version": 3
   },
   "file_extension": ".py",
   "mimetype": "text/x-python",
   "name": "python",
   "nbconvert_exporter": "python",
   "pygments_lexer": "ipython3",
   "version": "3.6.8"
  }
 },
 "nbformat": 4,
 "nbformat_minor": 4
}
